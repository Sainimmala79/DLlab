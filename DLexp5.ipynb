{
  "nbformat": 4,
  "nbformat_minor": 0,
  "metadata": {
    "colab": {
      "provenance": [],
      "authorship_tag": "ABX9TyNtuRchO6mmQh7cg/InKzRu",
      "include_colab_link": true
    },
    "kernelspec": {
      "name": "python3",
      "display_name": "Python 3"
    },
    "language_info": {
      "name": "python"
    }
  },
  "cells": [
    {
      "cell_type": "markdown",
      "metadata": {
        "id": "view-in-github",
        "colab_type": "text"
      },
      "source": [
        "<a href=\"https://colab.research.google.com/github/Sainimmala79/DLlab/blob/main/DLexp5.ipynb\" target=\"_parent\"><img src=\"https://colab.research.google.com/assets/colab-badge.svg\" alt=\"Open In Colab\"/></a>"
      ]
    },
    {
      "cell_type": "code",
      "execution_count": null,
      "metadata": {
        "id": "hQGF-xUny3lY"
      },
      "outputs": [],
      "source": [
        "from math import exp\n",
        "from random import seed\n",
        "from random import random"
      ]
    },
    {
      "cell_type": "code",
      "source": [
        "# Initialize a network\n",
        "def initialize_network(n_inputs, n_hidden, n_outputs):\n",
        "  network = list()\n",
        "  hidden_layer = [{'weights':[random() for i in range(n_inputs + 1)],'delta':-1} for i in range(n_hidden)]\n",
        "  network.append(hidden_layer)\n",
        "  output_layer = [{'weights':[random() for i in range(n_hidden + 1)],'delta':-1} for i in range(n_outputs)]\n",
        "  network.append(output_layer)\n",
        "  return network"
      ],
      "metadata": {
        "id": "9c-VXLMezIcW"
      },
      "execution_count": null,
      "outputs": []
    },
    {
      "cell_type": "code",
      "source": [
        "# Calculate neuron activation for an input\n",
        "def activate(weights, inputs):\n",
        "  activation = weights[-1]\n",
        "  for i in range(len(weights)-1):\n",
        "    activation += weights[i] * inputs[i]\n",
        "  return activation"
      ],
      "metadata": {
        "id": "2-3Ebz2czzm8"
      },
      "execution_count": null,
      "outputs": []
    },
    {
      "cell_type": "code",
      "source": [
        "# Transfer neuron activation\n",
        "def transfer(activation):\n",
        "  return 1.0 / (1.0 + exp(-activation))"
      ],
      "metadata": {
        "id": "uO89vUlQz8TM"
      },
      "execution_count": null,
      "outputs": []
    },
    {
      "cell_type": "code",
      "source": [
        "# Forward propagate input to a network output\n",
        "def forward_propagate(network, row):\n",
        "  inputs = row\n",
        "  for layer in network:\n",
        "    new_inputs = []\n",
        "    for neuron in layer:\n",
        "      activation = activate(neuron['weights'], inputs)\n",
        "      neuron['output'] = transfer(activation)\n",
        "      new_inputs.append(neuron['output'])\n",
        "    inputs = new_inputs\n",
        "  return inputs"
      ],
      "metadata": {
        "id": "K1BBlncp0BAe"
      },
      "execution_count": null,
      "outputs": []
    },
    {
      "cell_type": "code",
      "source": [
        "# Calculate the derivative of an neuron output\n",
        "def transfer_derivative(output):\n",
        "  return output * (1.0 - output)"
      ],
      "metadata": {
        "id": "NOSyUtkJ0OD7"
      },
      "execution_count": null,
      "outputs": []
    },
    {
      "cell_type": "code",
      "source": [
        "# Backpropagate error and store in neurons\n",
        "def backward_propagate_error(network, expected):\n",
        "  for i in reversed(range(len(network))):\n",
        "    layer = network[i]\n",
        "    errors = list()\n",
        "    if i != len(network)-1:\n",
        "      for j in range(len(layer)):\n",
        "        error = 0.0\n",
        "        for neuron in network[i + 1]:\n",
        "          error += (neuron['weights'][j] * neuron['delta'])\n",
        "        errors.append(error)\n",
        "    else:\n",
        "      for j in range(len(layer)):\n",
        "        neuron = layer[j]\n",
        "        errors.append(neuron['output'] - expected[j])\n",
        "  for j in range(len(layer)):\n",
        "          neuron = layer[j]\n",
        "          neuron['delta'] = errors[j] * transfer_derivative(neuron['output'])"
      ],
      "metadata": {
        "id": "p8_UucVW0SL5"
      },
      "execution_count": null,
      "outputs": []
    },
    {
      "cell_type": "code",
      "source": [
        "# Update network weights with error\n",
        "def update_weights(network, row, l_rate):\n",
        "  for i in range(len(network)):\n",
        "    inputs = row[:-1]\n",
        "    if i != 0:\n",
        "      inputs = [neuron['output'] for neuron in network[i - 1]]\n",
        "    for neuron in network[i]:\n",
        "        for j in range(len(inputs)):\n",
        "          neuron['weights'][j] += l_rate * neuron['delta'] * inputs[j]\n",
        "        neuron['weights'][-1] += l_rate * neuron['delta']"
      ],
      "metadata": {
        "id": "ePG1PC_U0rOX"
      },
      "execution_count": null,
      "outputs": []
    },
    {
      "cell_type": "code",
      "source": [
        "# Train a network for a fixed number of epochs\n",
        "def train_network(network, train, l_rate, n_epoch, n_outputs):\n",
        "  print(\"\\n Network Training Begins:\\n\")\n",
        "  for epoch in range(n_epoch):\n",
        "    sum_error = 0\n",
        "    for row in train:\n",
        "      outputs = forward_propagate(network, row)\n",
        "      expected = [0 for i in range(n_outputs)]\n",
        "      expected[row[-1]] = 1\n",
        "      sum_error += sum([(expected[i]-outputs[i])**2 for i in range(len(expected))])\n",
        "      backward_propagate_error(network, expected)\n",
        "      update_weights(network, row, l_rate)\n",
        "    print('>epoch=%d, lrate=%.3f, error=%.3f' % (epoch, l_rate, sum_error))\n",
        "  print(\"\\n Network Training Ends:\\n\")"
      ],
      "metadata": {
        "id": "DrailVFf08_F"
      },
      "execution_count": null,
      "outputs": []
    },
    {
      "cell_type": "code",
      "source": [
        "#Test training backprop algorithm seed(2)\n",
        "dataset = [[2.7810836,2.550537003,0], [1.465489372,2.362125076,0], [3.396561688,4.400293529,0], [1.38807019,1.850220317,0], [3.06407232,3.005305973,0], [7.627531214,2.759262235,1], [5.332441248,2.088626775,1], [6.922596716,1.77106367,1], [8.675418651,-0.242068655,1], [7.673756466,3.508563011,1]]\n",
        "print(\"\\n The input Data Set :\\n\",dataset)\n",
        "n_inputs = len(dataset[0]) - 1\n",
        "print(\"\\n Number of Inputs :\\n\",n_inputs)\n",
        "n_outputs = len(set([row[-1] for row in dataset]))\n",
        "print(\"\\n Number of Outputs :\\n\",n_outputs)"
      ],
      "metadata": {
        "colab": {
          "base_uri": "https://localhost:8080/"
        },
        "id": "upvlyB8P1Pwh",
        "outputId": "b76c45ca-726f-47f8-e4e3-9894a8524216"
      },
      "execution_count": null,
      "outputs": [
        {
          "output_type": "stream",
          "name": "stdout",
          "text": [
            "\n",
            " The input Data Set :\n",
            " [[2.7810836, 2.550537003, 0], [1.465489372, 2.362125076, 0], [3.396561688, 4.400293529, 0], [1.38807019, 1.850220317, 0], [3.06407232, 3.005305973, 0], [7.627531214, 2.759262235, 1], [5.332441248, 2.088626775, 1], [6.922596716, 1.77106367, 1], [8.675418651, -0.242068655, 1], [7.673756466, 3.508563011, 1]]\n",
            "\n",
            " Number of Inputs :\n",
            " 2\n",
            "\n",
            " Number of Outputs :\n",
            " 2\n"
          ]
        }
      ]
    },
    {
      "cell_type": "code",
      "source": [
        "#Network Initialization\n",
        "network = initialize_network(n_inputs, 2, n_outputs)\n",
        "# Training the Network\n",
        "train_network(network, dataset, 0.5, 20, n_outputs)\n",
        "print(\"\\n Final Neural Network :\")\n",
        "i= 1\n",
        "for layer in network:\n",
        "  j=1\n",
        "  for sub in layer:\n",
        "    print(\"\\n Layer[%d] Node[%d]:\\n\" %(i,j),sub)\n",
        "  j=j+1\n",
        "i=i+1"
      ],
      "metadata": {
        "colab": {
          "base_uri": "https://localhost:8080/"
        },
        "id": "t-lcz27J1f51",
        "outputId": "99e7124e-0617-48e4-b864-4ddda6b076e7"
      },
      "execution_count": null,
      "outputs": [
        {
          "output_type": "stream",
          "name": "stdout",
          "text": [
            "\n",
            " Network Training Begins:\n",
            "\n",
            ">epoch=0, lrate=0.500, error=8.459\n",
            ">epoch=1, lrate=0.500, error=10.000\n",
            ">epoch=2, lrate=0.500, error=10.000\n",
            ">epoch=3, lrate=0.500, error=10.000\n",
            ">epoch=4, lrate=0.500, error=10.000\n",
            ">epoch=5, lrate=0.500, error=10.000\n",
            ">epoch=6, lrate=0.500, error=10.000\n",
            ">epoch=7, lrate=0.500, error=10.000\n",
            ">epoch=8, lrate=0.500, error=10.000\n",
            ">epoch=9, lrate=0.500, error=10.000\n",
            ">epoch=10, lrate=0.500, error=10.000\n",
            ">epoch=11, lrate=0.500, error=10.000\n",
            ">epoch=12, lrate=0.500, error=10.000\n",
            ">epoch=13, lrate=0.500, error=10.000\n",
            ">epoch=14, lrate=0.500, error=10.000\n",
            ">epoch=15, lrate=0.500, error=10.000\n",
            ">epoch=16, lrate=0.500, error=10.000\n",
            ">epoch=17, lrate=0.500, error=10.000\n",
            ">epoch=18, lrate=0.500, error=10.000\n",
            ">epoch=19, lrate=0.500, error=10.000\n",
            "\n",
            " Network Training Ends:\n",
            "\n",
            "\n",
            " Final Neural Network :\n",
            "\n",
            " Layer[1] Node[1]:\n",
            " {'weights': [2.0824619165091796, 2.72043373027424, 1.1365619132676403], 'delta': 5.224273164151479e-10, 'output': 0.9999999999973639}\n",
            "\n",
            " Layer[1] Node[1]:\n",
            " {'weights': [2.0979532352527275, 2.6517498638958763, 1.2395041923014058], 'delta': 5.297994608070787e-10, 'output': 0.9999999999973128}\n",
            "\n",
            " Layer[1] Node[1]:\n",
            " {'weights': [-99.82461688063535, -98.68195326452916, -99.6693987613195], 'delta': -1, 'output': 1.4297621335642665e-129}\n",
            "\n",
            " Layer[1] Node[1]:\n",
            " {'weights': [-99.35626818856944, -99.47592595198286, -99.89323140304259], 'delta': -1, 'output': 8.253493342312876e-130}\n"
          ]
        }
      ]
    }
  ]
}