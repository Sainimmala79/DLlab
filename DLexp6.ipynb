{
  "nbformat": 4,
  "nbformat_minor": 0,
  "metadata": {
    "colab": {
      "provenance": [],
      "authorship_tag": "ABX9TyOBH3A7fdYd+iBXazWDioJE",
      "include_colab_link": true
    },
    "kernelspec": {
      "name": "python3",
      "display_name": "Python 3"
    },
    "language_info": {
      "name": "python"
    }
  },
  "cells": [
    {
      "cell_type": "markdown",
      "metadata": {
        "id": "view-in-github",
        "colab_type": "text"
      },
      "source": [
        "<a href=\"https://colab.research.google.com/github/Sainimmala79/DLlab/blob/main/DLexp6.ipynb\" target=\"_parent\"><img src=\"https://colab.research.google.com/assets/colab-badge.svg\" alt=\"Open In Colab\"/></a>"
      ]
    },
    {
      "cell_type": "code",
      "execution_count": 1,
      "metadata": {
        "id": "1AuSyN6CARhv"
      },
      "outputs": [],
      "source": [
        "#Load Libraries & Capture Dataset\n",
        "import numpy as np\n",
        "# linear algebra\n",
        "import pandas as pd\n",
        "# data processing, CSV file I/O (e.g. pd.read_csv)\n",
        "import seaborn as sb\n",
        "# library that uses Matplotlib underneath to plot graphs\n",
        "import matplotlib.pyplot as plt\n",
        "#Matlab\n",
        "from warnings import filterwarnings\n",
        "#ignore warnings from specified module\n",
        "filterwarnings(\"ignore\")"
      ]
    },
    {
      "cell_type": "code",
      "source": [
        "#Reading Dataset\n",
        "data = pd.read_csv(\"/content/car_purchasing.csv\",encoding='ISO-8859-1')"
      ],
      "metadata": {
        "id": "lq253mW6BvDC"
      },
      "execution_count": 2,
      "outputs": []
    },
    {
      "cell_type": "code",
      "source": [
        "data.head()"
      ],
      "metadata": {
        "colab": {
          "base_uri": "https://localhost:8080/",
          "height": 521
        },
        "id": "CEy47fRQB4nI",
        "outputId": "f00a38e5-88cc-40ca-98f2-6283b21b2b6e"
      },
      "execution_count": 3,
      "outputs": [
        {
          "output_type": "execute_result",
          "data": {
            "text/plain": [
              "     customer name                                        JobTitle  \\\n",
              "0    Martina Avila  GENERAL MANAGER-METROPOLITAN TRANSIT AUTHORITY   \n",
              "1    Harlan Barnes                 CAPTAIN III (POLICE DEPARTMENT)   \n",
              "2  Naomi Rodriquez                 CAPTAIN III (POLICE DEPARTMENT)   \n",
              "3  Jade Cunningham            WIRE ROPE CABLE MAINTENANCE MECHANIC   \n",
              "4     Cedric Leach    DEPUTY CHIEF OF DEPARTMENT,(FIRE DEPARTMENT)   \n",
              "\n",
              "                                     customer e-mail       country  gender  \\\n",
              "0  cubilia.Curae.Phasellus@quisaccumsanconvallis.edu      Bulgaria       0   \n",
              "1                                eu.dolor@diam.co.uk        Belize       0   \n",
              "2  vulputate.mauris.sagittis@ametconsectetueradip...       Algeria       1   \n",
              "3                            malesuada@dignissim.com  Cook Islands       1   \n",
              "4     felis.ullamcorper.viverra@egetmollislectus.net        Brazil       1   \n",
              "\n",
              "   age    BasePay  OvertimePay   OtherPay  Benefits   TotalPay  \\\n",
              "0   42  167411.18         0.00  400184.25       NaN  567595.43   \n",
              "1   41  155966.02    245131.88  137811.38       NaN  538909.28   \n",
              "2   43  212739.13    106088.18   16452.60       NaN  335279.91   \n",
              "3   58   77916.00     56120.71  198306.90       NaN  332343.61   \n",
              "4   57  134401.60      9737.00  182234.59       NaN  326373.19   \n",
              "\n",
              "   TotalPayBenefits  credit card debt    net worth  car purchase amount  \n",
              "0         567595.43      11609.380910  238961.2505          35321.45877  \n",
              "1         538909.28       9572.957136  530973.9078          45115.52566  \n",
              "2         335279.91      11160.355060  638467.1773          42925.70921  \n",
              "3         332343.61      14426.164850  548599.0524          67422.36313  \n",
              "4         326373.19       5358.712177  560304.0671          55915.46248  "
            ],
            "text/html": [
              "\n",
              "  <div id=\"df-c9dfed6a-8491-4644-a05d-6faee5ce637d\" class=\"colab-df-container\">\n",
              "    <div>\n",
              "<style scoped>\n",
              "    .dataframe tbody tr th:only-of-type {\n",
              "        vertical-align: middle;\n",
              "    }\n",
              "\n",
              "    .dataframe tbody tr th {\n",
              "        vertical-align: top;\n",
              "    }\n",
              "\n",
              "    .dataframe thead th {\n",
              "        text-align: right;\n",
              "    }\n",
              "</style>\n",
              "<table border=\"1\" class=\"dataframe\">\n",
              "  <thead>\n",
              "    <tr style=\"text-align: right;\">\n",
              "      <th></th>\n",
              "      <th>customer name</th>\n",
              "      <th>JobTitle</th>\n",
              "      <th>customer e-mail</th>\n",
              "      <th>country</th>\n",
              "      <th>gender</th>\n",
              "      <th>age</th>\n",
              "      <th>BasePay</th>\n",
              "      <th>OvertimePay</th>\n",
              "      <th>OtherPay</th>\n",
              "      <th>Benefits</th>\n",
              "      <th>TotalPay</th>\n",
              "      <th>TotalPayBenefits</th>\n",
              "      <th>credit card debt</th>\n",
              "      <th>net worth</th>\n",
              "      <th>car purchase amount</th>\n",
              "    </tr>\n",
              "  </thead>\n",
              "  <tbody>\n",
              "    <tr>\n",
              "      <th>0</th>\n",
              "      <td>Martina Avila</td>\n",
              "      <td>GENERAL MANAGER-METROPOLITAN TRANSIT AUTHORITY</td>\n",
              "      <td>cubilia.Curae.Phasellus@quisaccumsanconvallis.edu</td>\n",
              "      <td>Bulgaria</td>\n",
              "      <td>0</td>\n",
              "      <td>42</td>\n",
              "      <td>167411.18</td>\n",
              "      <td>0.00</td>\n",
              "      <td>400184.25</td>\n",
              "      <td>NaN</td>\n",
              "      <td>567595.43</td>\n",
              "      <td>567595.43</td>\n",
              "      <td>11609.380910</td>\n",
              "      <td>238961.2505</td>\n",
              "      <td>35321.45877</td>\n",
              "    </tr>\n",
              "    <tr>\n",
              "      <th>1</th>\n",
              "      <td>Harlan Barnes</td>\n",
              "      <td>CAPTAIN III (POLICE DEPARTMENT)</td>\n",
              "      <td>eu.dolor@diam.co.uk</td>\n",
              "      <td>Belize</td>\n",
              "      <td>0</td>\n",
              "      <td>41</td>\n",
              "      <td>155966.02</td>\n",
              "      <td>245131.88</td>\n",
              "      <td>137811.38</td>\n",
              "      <td>NaN</td>\n",
              "      <td>538909.28</td>\n",
              "      <td>538909.28</td>\n",
              "      <td>9572.957136</td>\n",
              "      <td>530973.9078</td>\n",
              "      <td>45115.52566</td>\n",
              "    </tr>\n",
              "    <tr>\n",
              "      <th>2</th>\n",
              "      <td>Naomi Rodriquez</td>\n",
              "      <td>CAPTAIN III (POLICE DEPARTMENT)</td>\n",
              "      <td>vulputate.mauris.sagittis@ametconsectetueradip...</td>\n",
              "      <td>Algeria</td>\n",
              "      <td>1</td>\n",
              "      <td>43</td>\n",
              "      <td>212739.13</td>\n",
              "      <td>106088.18</td>\n",
              "      <td>16452.60</td>\n",
              "      <td>NaN</td>\n",
              "      <td>335279.91</td>\n",
              "      <td>335279.91</td>\n",
              "      <td>11160.355060</td>\n",
              "      <td>638467.1773</td>\n",
              "      <td>42925.70921</td>\n",
              "    </tr>\n",
              "    <tr>\n",
              "      <th>3</th>\n",
              "      <td>Jade Cunningham</td>\n",
              "      <td>WIRE ROPE CABLE MAINTENANCE MECHANIC</td>\n",
              "      <td>malesuada@dignissim.com</td>\n",
              "      <td>Cook Islands</td>\n",
              "      <td>1</td>\n",
              "      <td>58</td>\n",
              "      <td>77916.00</td>\n",
              "      <td>56120.71</td>\n",
              "      <td>198306.90</td>\n",
              "      <td>NaN</td>\n",
              "      <td>332343.61</td>\n",
              "      <td>332343.61</td>\n",
              "      <td>14426.164850</td>\n",
              "      <td>548599.0524</td>\n",
              "      <td>67422.36313</td>\n",
              "    </tr>\n",
              "    <tr>\n",
              "      <th>4</th>\n",
              "      <td>Cedric Leach</td>\n",
              "      <td>DEPUTY CHIEF OF DEPARTMENT,(FIRE DEPARTMENT)</td>\n",
              "      <td>felis.ullamcorper.viverra@egetmollislectus.net</td>\n",
              "      <td>Brazil</td>\n",
              "      <td>1</td>\n",
              "      <td>57</td>\n",
              "      <td>134401.60</td>\n",
              "      <td>9737.00</td>\n",
              "      <td>182234.59</td>\n",
              "      <td>NaN</td>\n",
              "      <td>326373.19</td>\n",
              "      <td>326373.19</td>\n",
              "      <td>5358.712177</td>\n",
              "      <td>560304.0671</td>\n",
              "      <td>55915.46248</td>\n",
              "    </tr>\n",
              "  </tbody>\n",
              "</table>\n",
              "</div>\n",
              "    <div class=\"colab-df-buttons\">\n",
              "\n",
              "  <div class=\"colab-df-container\">\n",
              "    <button class=\"colab-df-convert\" onclick=\"convertToInteractive('df-c9dfed6a-8491-4644-a05d-6faee5ce637d')\"\n",
              "            title=\"Convert this dataframe to an interactive table.\"\n",
              "            style=\"display:none;\">\n",
              "\n",
              "  <svg xmlns=\"http://www.w3.org/2000/svg\" height=\"24px\" viewBox=\"0 -960 960 960\">\n",
              "    <path d=\"M120-120v-720h720v720H120Zm60-500h600v-160H180v160Zm220 220h160v-160H400v160Zm0 220h160v-160H400v160ZM180-400h160v-160H180v160Zm440 0h160v-160H620v160ZM180-180h160v-160H180v160Zm440 0h160v-160H620v160Z\"/>\n",
              "  </svg>\n",
              "    </button>\n",
              "\n",
              "  <style>\n",
              "    .colab-df-container {\n",
              "      display:flex;\n",
              "      gap: 12px;\n",
              "    }\n",
              "\n",
              "    .colab-df-convert {\n",
              "      background-color: #E8F0FE;\n",
              "      border: none;\n",
              "      border-radius: 50%;\n",
              "      cursor: pointer;\n",
              "      display: none;\n",
              "      fill: #1967D2;\n",
              "      height: 32px;\n",
              "      padding: 0 0 0 0;\n",
              "      width: 32px;\n",
              "    }\n",
              "\n",
              "    .colab-df-convert:hover {\n",
              "      background-color: #E2EBFA;\n",
              "      box-shadow: 0px 1px 2px rgba(60, 64, 67, 0.3), 0px 1px 3px 1px rgba(60, 64, 67, 0.15);\n",
              "      fill: #174EA6;\n",
              "    }\n",
              "\n",
              "    .colab-df-buttons div {\n",
              "      margin-bottom: 4px;\n",
              "    }\n",
              "\n",
              "    [theme=dark] .colab-df-convert {\n",
              "      background-color: #3B4455;\n",
              "      fill: #D2E3FC;\n",
              "    }\n",
              "\n",
              "    [theme=dark] .colab-df-convert:hover {\n",
              "      background-color: #434B5C;\n",
              "      box-shadow: 0px 1px 3px 1px rgba(0, 0, 0, 0.15);\n",
              "      filter: drop-shadow(0px 1px 2px rgba(0, 0, 0, 0.3));\n",
              "      fill: #FFFFFF;\n",
              "    }\n",
              "  </style>\n",
              "\n",
              "    <script>\n",
              "      const buttonEl =\n",
              "        document.querySelector('#df-c9dfed6a-8491-4644-a05d-6faee5ce637d button.colab-df-convert');\n",
              "      buttonEl.style.display =\n",
              "        google.colab.kernel.accessAllowed ? 'block' : 'none';\n",
              "\n",
              "      async function convertToInteractive(key) {\n",
              "        const element = document.querySelector('#df-c9dfed6a-8491-4644-a05d-6faee5ce637d');\n",
              "        const dataTable =\n",
              "          await google.colab.kernel.invokeFunction('convertToInteractive',\n",
              "                                                    [key], {});\n",
              "        if (!dataTable) return;\n",
              "\n",
              "        const docLinkHtml = 'Like what you see? Visit the ' +\n",
              "          '<a target=\"_blank\" href=https://colab.research.google.com/notebooks/data_table.ipynb>data table notebook</a>'\n",
              "          + ' to learn more about interactive tables.';\n",
              "        element.innerHTML = '';\n",
              "        dataTable['output_type'] = 'display_data';\n",
              "        await google.colab.output.renderOutput(dataTable, element);\n",
              "        const docLink = document.createElement('div');\n",
              "        docLink.innerHTML = docLinkHtml;\n",
              "        element.appendChild(docLink);\n",
              "      }\n",
              "    </script>\n",
              "  </div>\n",
              "\n",
              "\n",
              "<div id=\"df-641d252d-3e27-4dc5-8782-5994384a1bad\">\n",
              "  <button class=\"colab-df-quickchart\" onclick=\"quickchart('df-641d252d-3e27-4dc5-8782-5994384a1bad')\"\n",
              "            title=\"Suggest charts\"\n",
              "            style=\"display:none;\">\n",
              "\n",
              "<svg xmlns=\"http://www.w3.org/2000/svg\" height=\"24px\"viewBox=\"0 0 24 24\"\n",
              "     width=\"24px\">\n",
              "    <g>\n",
              "        <path d=\"M19 3H5c-1.1 0-2 .9-2 2v14c0 1.1.9 2 2 2h14c1.1 0 2-.9 2-2V5c0-1.1-.9-2-2-2zM9 17H7v-7h2v7zm4 0h-2V7h2v10zm4 0h-2v-4h2v4z\"/>\n",
              "    </g>\n",
              "</svg>\n",
              "  </button>\n",
              "\n",
              "<style>\n",
              "  .colab-df-quickchart {\n",
              "      --bg-color: #E8F0FE;\n",
              "      --fill-color: #1967D2;\n",
              "      --hover-bg-color: #E2EBFA;\n",
              "      --hover-fill-color: #174EA6;\n",
              "      --disabled-fill-color: #AAA;\n",
              "      --disabled-bg-color: #DDD;\n",
              "  }\n",
              "\n",
              "  [theme=dark] .colab-df-quickchart {\n",
              "      --bg-color: #3B4455;\n",
              "      --fill-color: #D2E3FC;\n",
              "      --hover-bg-color: #434B5C;\n",
              "      --hover-fill-color: #FFFFFF;\n",
              "      --disabled-bg-color: #3B4455;\n",
              "      --disabled-fill-color: #666;\n",
              "  }\n",
              "\n",
              "  .colab-df-quickchart {\n",
              "    background-color: var(--bg-color);\n",
              "    border: none;\n",
              "    border-radius: 50%;\n",
              "    cursor: pointer;\n",
              "    display: none;\n",
              "    fill: var(--fill-color);\n",
              "    height: 32px;\n",
              "    padding: 0;\n",
              "    width: 32px;\n",
              "  }\n",
              "\n",
              "  .colab-df-quickchart:hover {\n",
              "    background-color: var(--hover-bg-color);\n",
              "    box-shadow: 0 1px 2px rgba(60, 64, 67, 0.3), 0 1px 3px 1px rgba(60, 64, 67, 0.15);\n",
              "    fill: var(--button-hover-fill-color);\n",
              "  }\n",
              "\n",
              "  .colab-df-quickchart-complete:disabled,\n",
              "  .colab-df-quickchart-complete:disabled:hover {\n",
              "    background-color: var(--disabled-bg-color);\n",
              "    fill: var(--disabled-fill-color);\n",
              "    box-shadow: none;\n",
              "  }\n",
              "\n",
              "  .colab-df-spinner {\n",
              "    border: 2px solid var(--fill-color);\n",
              "    border-color: transparent;\n",
              "    border-bottom-color: var(--fill-color);\n",
              "    animation:\n",
              "      spin 1s steps(1) infinite;\n",
              "  }\n",
              "\n",
              "  @keyframes spin {\n",
              "    0% {\n",
              "      border-color: transparent;\n",
              "      border-bottom-color: var(--fill-color);\n",
              "      border-left-color: var(--fill-color);\n",
              "    }\n",
              "    20% {\n",
              "      border-color: transparent;\n",
              "      border-left-color: var(--fill-color);\n",
              "      border-top-color: var(--fill-color);\n",
              "    }\n",
              "    30% {\n",
              "      border-color: transparent;\n",
              "      border-left-color: var(--fill-color);\n",
              "      border-top-color: var(--fill-color);\n",
              "      border-right-color: var(--fill-color);\n",
              "    }\n",
              "    40% {\n",
              "      border-color: transparent;\n",
              "      border-right-color: var(--fill-color);\n",
              "      border-top-color: var(--fill-color);\n",
              "    }\n",
              "    60% {\n",
              "      border-color: transparent;\n",
              "      border-right-color: var(--fill-color);\n",
              "    }\n",
              "    80% {\n",
              "      border-color: transparent;\n",
              "      border-right-color: var(--fill-color);\n",
              "      border-bottom-color: var(--fill-color);\n",
              "    }\n",
              "    90% {\n",
              "      border-color: transparent;\n",
              "      border-bottom-color: var(--fill-color);\n",
              "    }\n",
              "  }\n",
              "</style>\n",
              "\n",
              "  <script>\n",
              "    async function quickchart(key) {\n",
              "      const quickchartButtonEl =\n",
              "        document.querySelector('#' + key + ' button');\n",
              "      quickchartButtonEl.disabled = true;  // To prevent multiple clicks.\n",
              "      quickchartButtonEl.classList.add('colab-df-spinner');\n",
              "      try {\n",
              "        const charts = await google.colab.kernel.invokeFunction(\n",
              "            'suggestCharts', [key], {});\n",
              "      } catch (error) {\n",
              "        console.error('Error during call to suggestCharts:', error);\n",
              "      }\n",
              "      quickchartButtonEl.classList.remove('colab-df-spinner');\n",
              "      quickchartButtonEl.classList.add('colab-df-quickchart-complete');\n",
              "    }\n",
              "    (() => {\n",
              "      let quickchartButtonEl =\n",
              "        document.querySelector('#df-641d252d-3e27-4dc5-8782-5994384a1bad button');\n",
              "      quickchartButtonEl.style.display =\n",
              "        google.colab.kernel.accessAllowed ? 'block' : 'none';\n",
              "    })();\n",
              "  </script>\n",
              "</div>\n",
              "    </div>\n",
              "  </div>\n"
            ]
          },
          "metadata": {},
          "execution_count": 3
        }
      ]
    },
    {
      "cell_type": "code",
      "source": [
        "#printing information about the DataFrame\n",
        "data.info()"
      ],
      "metadata": {
        "colab": {
          "base_uri": "https://localhost:8080/"
        },
        "id": "EjHGiq_8B-pE",
        "outputId": "36f97ae6-c517-44c7-b25a-4e90a5b31b9b"
      },
      "execution_count": 4,
      "outputs": [
        {
          "output_type": "stream",
          "name": "stdout",
          "text": [
            "<class 'pandas.core.frame.DataFrame'>\n",
            "RangeIndex: 500 entries, 0 to 499\n",
            "Data columns (total 15 columns):\n",
            " #   Column               Non-Null Count  Dtype  \n",
            "---  ------               --------------  -----  \n",
            " 0   customer name        500 non-null    object \n",
            " 1   JobTitle             500 non-null    object \n",
            " 2   customer e-mail      500 non-null    object \n",
            " 3   country              500 non-null    object \n",
            " 4   gender               500 non-null    int64  \n",
            " 5   age                  500 non-null    int64  \n",
            " 6   BasePay              500 non-null    float64\n",
            " 7   OvertimePay          500 non-null    float64\n",
            " 8   OtherPay             500 non-null    float64\n",
            " 9   Benefits             0 non-null      float64\n",
            " 10  TotalPay             500 non-null    float64\n",
            " 11  TotalPayBenefits     500 non-null    float64\n",
            " 12  credit card debt     500 non-null    float64\n",
            " 13  net worth            500 non-null    float64\n",
            " 14  car purchase amount  500 non-null    float64\n",
            "dtypes: float64(9), int64(2), object(4)\n",
            "memory usage: 58.7+ KB\n"
          ]
        }
      ]
    },
    {
      "cell_type": "code",
      "source": [
        "#calculating the relationship between each column in the data set.\n",
        "data.corr()[[\"car purchase amount\"]].sort_values([\"car purchase amount\"])"
      ],
      "metadata": {
        "colab": {
          "base_uri": "https://localhost:8080/",
          "height": 394
        },
        "id": "s9PpylnPCAYs",
        "outputId": "cb6ab582-feac-4a5f-c437-577a69caf9d7"
      },
      "execution_count": 5,
      "outputs": [
        {
          "output_type": "execute_result",
          "data": {
            "text/plain": [
              "                     car purchase amount\n",
              "gender                         -0.066408\n",
              "OvertimePay                    -0.031566\n",
              "OtherPay                       -0.008536\n",
              "TotalPay                        0.006014\n",
              "TotalPayBenefits                0.006014\n",
              "credit card debt                0.028882\n",
              "BasePay                         0.037602\n",
              "net worth                       0.488580\n",
              "age                             0.633273\n",
              "car purchase amount             1.000000\n",
              "Benefits                             NaN"
            ],
            "text/html": [
              "\n",
              "  <div id=\"df-986c47d4-98f0-45d2-8318-b0002769c038\" class=\"colab-df-container\">\n",
              "    <div>\n",
              "<style scoped>\n",
              "    .dataframe tbody tr th:only-of-type {\n",
              "        vertical-align: middle;\n",
              "    }\n",
              "\n",
              "    .dataframe tbody tr th {\n",
              "        vertical-align: top;\n",
              "    }\n",
              "\n",
              "    .dataframe thead th {\n",
              "        text-align: right;\n",
              "    }\n",
              "</style>\n",
              "<table border=\"1\" class=\"dataframe\">\n",
              "  <thead>\n",
              "    <tr style=\"text-align: right;\">\n",
              "      <th></th>\n",
              "      <th>car purchase amount</th>\n",
              "    </tr>\n",
              "  </thead>\n",
              "  <tbody>\n",
              "    <tr>\n",
              "      <th>gender</th>\n",
              "      <td>-0.066408</td>\n",
              "    </tr>\n",
              "    <tr>\n",
              "      <th>OvertimePay</th>\n",
              "      <td>-0.031566</td>\n",
              "    </tr>\n",
              "    <tr>\n",
              "      <th>OtherPay</th>\n",
              "      <td>-0.008536</td>\n",
              "    </tr>\n",
              "    <tr>\n",
              "      <th>TotalPay</th>\n",
              "      <td>0.006014</td>\n",
              "    </tr>\n",
              "    <tr>\n",
              "      <th>TotalPayBenefits</th>\n",
              "      <td>0.006014</td>\n",
              "    </tr>\n",
              "    <tr>\n",
              "      <th>credit card debt</th>\n",
              "      <td>0.028882</td>\n",
              "    </tr>\n",
              "    <tr>\n",
              "      <th>BasePay</th>\n",
              "      <td>0.037602</td>\n",
              "    </tr>\n",
              "    <tr>\n",
              "      <th>net worth</th>\n",
              "      <td>0.488580</td>\n",
              "    </tr>\n",
              "    <tr>\n",
              "      <th>age</th>\n",
              "      <td>0.633273</td>\n",
              "    </tr>\n",
              "    <tr>\n",
              "      <th>car purchase amount</th>\n",
              "      <td>1.000000</td>\n",
              "    </tr>\n",
              "    <tr>\n",
              "      <th>Benefits</th>\n",
              "      <td>NaN</td>\n",
              "    </tr>\n",
              "  </tbody>\n",
              "</table>\n",
              "</div>\n",
              "    <div class=\"colab-df-buttons\">\n",
              "\n",
              "  <div class=\"colab-df-container\">\n",
              "    <button class=\"colab-df-convert\" onclick=\"convertToInteractive('df-986c47d4-98f0-45d2-8318-b0002769c038')\"\n",
              "            title=\"Convert this dataframe to an interactive table.\"\n",
              "            style=\"display:none;\">\n",
              "\n",
              "  <svg xmlns=\"http://www.w3.org/2000/svg\" height=\"24px\" viewBox=\"0 -960 960 960\">\n",
              "    <path d=\"M120-120v-720h720v720H120Zm60-500h600v-160H180v160Zm220 220h160v-160H400v160Zm0 220h160v-160H400v160ZM180-400h160v-160H180v160Zm440 0h160v-160H620v160ZM180-180h160v-160H180v160Zm440 0h160v-160H620v160Z\"/>\n",
              "  </svg>\n",
              "    </button>\n",
              "\n",
              "  <style>\n",
              "    .colab-df-container {\n",
              "      display:flex;\n",
              "      gap: 12px;\n",
              "    }\n",
              "\n",
              "    .colab-df-convert {\n",
              "      background-color: #E8F0FE;\n",
              "      border: none;\n",
              "      border-radius: 50%;\n",
              "      cursor: pointer;\n",
              "      display: none;\n",
              "      fill: #1967D2;\n",
              "      height: 32px;\n",
              "      padding: 0 0 0 0;\n",
              "      width: 32px;\n",
              "    }\n",
              "\n",
              "    .colab-df-convert:hover {\n",
              "      background-color: #E2EBFA;\n",
              "      box-shadow: 0px 1px 2px rgba(60, 64, 67, 0.3), 0px 1px 3px 1px rgba(60, 64, 67, 0.15);\n",
              "      fill: #174EA6;\n",
              "    }\n",
              "\n",
              "    .colab-df-buttons div {\n",
              "      margin-bottom: 4px;\n",
              "    }\n",
              "\n",
              "    [theme=dark] .colab-df-convert {\n",
              "      background-color: #3B4455;\n",
              "      fill: #D2E3FC;\n",
              "    }\n",
              "\n",
              "    [theme=dark] .colab-df-convert:hover {\n",
              "      background-color: #434B5C;\n",
              "      box-shadow: 0px 1px 3px 1px rgba(0, 0, 0, 0.15);\n",
              "      filter: drop-shadow(0px 1px 2px rgba(0, 0, 0, 0.3));\n",
              "      fill: #FFFFFF;\n",
              "    }\n",
              "  </style>\n",
              "\n",
              "    <script>\n",
              "      const buttonEl =\n",
              "        document.querySelector('#df-986c47d4-98f0-45d2-8318-b0002769c038 button.colab-df-convert');\n",
              "      buttonEl.style.display =\n",
              "        google.colab.kernel.accessAllowed ? 'block' : 'none';\n",
              "\n",
              "      async function convertToInteractive(key) {\n",
              "        const element = document.querySelector('#df-986c47d4-98f0-45d2-8318-b0002769c038');\n",
              "        const dataTable =\n",
              "          await google.colab.kernel.invokeFunction('convertToInteractive',\n",
              "                                                    [key], {});\n",
              "        if (!dataTable) return;\n",
              "\n",
              "        const docLinkHtml = 'Like what you see? Visit the ' +\n",
              "          '<a target=\"_blank\" href=https://colab.research.google.com/notebooks/data_table.ipynb>data table notebook</a>'\n",
              "          + ' to learn more about interactive tables.';\n",
              "        element.innerHTML = '';\n",
              "        dataTable['output_type'] = 'display_data';\n",
              "        await google.colab.output.renderOutput(dataTable, element);\n",
              "        const docLink = document.createElement('div');\n",
              "        docLink.innerHTML = docLinkHtml;\n",
              "        element.appendChild(docLink);\n",
              "      }\n",
              "    </script>\n",
              "  </div>\n",
              "\n",
              "\n",
              "<div id=\"df-826c8920-bbde-44c7-b020-fbd022366357\">\n",
              "  <button class=\"colab-df-quickchart\" onclick=\"quickchart('df-826c8920-bbde-44c7-b020-fbd022366357')\"\n",
              "            title=\"Suggest charts\"\n",
              "            style=\"display:none;\">\n",
              "\n",
              "<svg xmlns=\"http://www.w3.org/2000/svg\" height=\"24px\"viewBox=\"0 0 24 24\"\n",
              "     width=\"24px\">\n",
              "    <g>\n",
              "        <path d=\"M19 3H5c-1.1 0-2 .9-2 2v14c0 1.1.9 2 2 2h14c1.1 0 2-.9 2-2V5c0-1.1-.9-2-2-2zM9 17H7v-7h2v7zm4 0h-2V7h2v10zm4 0h-2v-4h2v4z\"/>\n",
              "    </g>\n",
              "</svg>\n",
              "  </button>\n",
              "\n",
              "<style>\n",
              "  .colab-df-quickchart {\n",
              "      --bg-color: #E8F0FE;\n",
              "      --fill-color: #1967D2;\n",
              "      --hover-bg-color: #E2EBFA;\n",
              "      --hover-fill-color: #174EA6;\n",
              "      --disabled-fill-color: #AAA;\n",
              "      --disabled-bg-color: #DDD;\n",
              "  }\n",
              "\n",
              "  [theme=dark] .colab-df-quickchart {\n",
              "      --bg-color: #3B4455;\n",
              "      --fill-color: #D2E3FC;\n",
              "      --hover-bg-color: #434B5C;\n",
              "      --hover-fill-color: #FFFFFF;\n",
              "      --disabled-bg-color: #3B4455;\n",
              "      --disabled-fill-color: #666;\n",
              "  }\n",
              "\n",
              "  .colab-df-quickchart {\n",
              "    background-color: var(--bg-color);\n",
              "    border: none;\n",
              "    border-radius: 50%;\n",
              "    cursor: pointer;\n",
              "    display: none;\n",
              "    fill: var(--fill-color);\n",
              "    height: 32px;\n",
              "    padding: 0;\n",
              "    width: 32px;\n",
              "  }\n",
              "\n",
              "  .colab-df-quickchart:hover {\n",
              "    background-color: var(--hover-bg-color);\n",
              "    box-shadow: 0 1px 2px rgba(60, 64, 67, 0.3), 0 1px 3px 1px rgba(60, 64, 67, 0.15);\n",
              "    fill: var(--button-hover-fill-color);\n",
              "  }\n",
              "\n",
              "  .colab-df-quickchart-complete:disabled,\n",
              "  .colab-df-quickchart-complete:disabled:hover {\n",
              "    background-color: var(--disabled-bg-color);\n",
              "    fill: var(--disabled-fill-color);\n",
              "    box-shadow: none;\n",
              "  }\n",
              "\n",
              "  .colab-df-spinner {\n",
              "    border: 2px solid var(--fill-color);\n",
              "    border-color: transparent;\n",
              "    border-bottom-color: var(--fill-color);\n",
              "    animation:\n",
              "      spin 1s steps(1) infinite;\n",
              "  }\n",
              "\n",
              "  @keyframes spin {\n",
              "    0% {\n",
              "      border-color: transparent;\n",
              "      border-bottom-color: var(--fill-color);\n",
              "      border-left-color: var(--fill-color);\n",
              "    }\n",
              "    20% {\n",
              "      border-color: transparent;\n",
              "      border-left-color: var(--fill-color);\n",
              "      border-top-color: var(--fill-color);\n",
              "    }\n",
              "    30% {\n",
              "      border-color: transparent;\n",
              "      border-left-color: var(--fill-color);\n",
              "      border-top-color: var(--fill-color);\n",
              "      border-right-color: var(--fill-color);\n",
              "    }\n",
              "    40% {\n",
              "      border-color: transparent;\n",
              "      border-right-color: var(--fill-color);\n",
              "      border-top-color: var(--fill-color);\n",
              "    }\n",
              "    60% {\n",
              "      border-color: transparent;\n",
              "      border-right-color: var(--fill-color);\n",
              "    }\n",
              "    80% {\n",
              "      border-color: transparent;\n",
              "      border-right-color: var(--fill-color);\n",
              "      border-bottom-color: var(--fill-color);\n",
              "    }\n",
              "    90% {\n",
              "      border-color: transparent;\n",
              "      border-bottom-color: var(--fill-color);\n",
              "    }\n",
              "  }\n",
              "</style>\n",
              "\n",
              "  <script>\n",
              "    async function quickchart(key) {\n",
              "      const quickchartButtonEl =\n",
              "        document.querySelector('#' + key + ' button');\n",
              "      quickchartButtonEl.disabled = true;  // To prevent multiple clicks.\n",
              "      quickchartButtonEl.classList.add('colab-df-spinner');\n",
              "      try {\n",
              "        const charts = await google.colab.kernel.invokeFunction(\n",
              "            'suggestCharts', [key], {});\n",
              "      } catch (error) {\n",
              "        console.error('Error during call to suggestCharts:', error);\n",
              "      }\n",
              "      quickchartButtonEl.classList.remove('colab-df-spinner');\n",
              "      quickchartButtonEl.classList.add('colab-df-quickchart-complete');\n",
              "    }\n",
              "    (() => {\n",
              "      let quickchartButtonEl =\n",
              "        document.querySelector('#df-826c8920-bbde-44c7-b020-fbd022366357 button');\n",
              "      quickchartButtonEl.style.display =\n",
              "        google.colab.kernel.accessAllowed ? 'block' : 'none';\n",
              "    })();\n",
              "  </script>\n",
              "</div>\n",
              "    </div>\n",
              "  </div>\n"
            ]
          },
          "metadata": {},
          "execution_count": 5
        }
      ]
    },
    {
      "cell_type": "code",
      "source": [
        "# Missing data check\n",
        "data.isna().sum()"
      ],
      "metadata": {
        "colab": {
          "base_uri": "https://localhost:8080/"
        },
        "id": "XI8paj-8CLD3",
        "outputId": "69176960-f830-4d54-8cc9-864c46d16099"
      },
      "execution_count": 6,
      "outputs": [
        {
          "output_type": "execute_result",
          "data": {
            "text/plain": [
              "customer name            0\n",
              "JobTitle                 0\n",
              "customer e-mail          0\n",
              "country                  0\n",
              "gender                   0\n",
              "age                      0\n",
              "BasePay                  0\n",
              "OvertimePay              0\n",
              "OtherPay                 0\n",
              "Benefits               500\n",
              "TotalPay                 0\n",
              "TotalPayBenefits         0\n",
              "credit card debt         0\n",
              "net worth                0\n",
              "car purchase amount      0\n",
              "dtype: int64"
            ]
          },
          "metadata": {},
          "execution_count": 6
        }
      ]
    },
    {
      "cell_type": "code",
      "source": [
        "# Dropping columns\n",
        "car_df = data.drop([\"customer name\",\"customer e-mail\",\"country\",\"JobTitle\",\"Benefits\"],axis=1)"
      ],
      "metadata": {
        "id": "eyfCFQ9iCOvl"
      },
      "execution_count": 7,
      "outputs": []
    },
    {
      "cell_type": "code",
      "source": [
        "#Define X and Y\n",
        "Y = car_df[[\"car purchase amount\"]]\n",
        "X = car_df.drop([\"car purchase amount\"],axis=1)\n",
        "print(X.shape,Y.shape)"
      ],
      "metadata": {
        "colab": {
          "base_uri": "https://localhost:8080/"
        },
        "id": "YdU5ukvkCT9i",
        "outputId": "7264f455-fc03-4568-d714-2b84f134ff03"
      },
      "execution_count": 8,
      "outputs": [
        {
          "output_type": "stream",
          "name": "stdout",
          "text": [
            "(500, 9) (500, 1)\n"
          ]
        }
      ]
    },
    {
      "cell_type": "code",
      "source": [
        "#Pre-Processing\n",
        "from sklearn.preprocessing import MinMaxScaler\n",
        "mms = MinMaxScaler()\n",
        "X_scaled = mms.fit_transform(X)\n",
        "Y_scaled = mms.fit_transform(Y.values.reshape(-1,1))"
      ],
      "metadata": {
        "id": "gsbZhN64CkLb"
      },
      "execution_count": 9,
      "outputs": []
    },
    {
      "cell_type": "code",
      "source": [
        "print(X_scaled.shape,Y_scaled.shape)"
      ],
      "metadata": {
        "colab": {
          "base_uri": "https://localhost:8080/"
        },
        "id": "KyM9ScgVCvMN",
        "outputId": "10985985-865c-492c-e1f7-f27a1a6bf31f"
      },
      "execution_count": 10,
      "outputs": [
        {
          "output_type": "stream",
          "name": "stdout",
          "text": [
            "(500, 9) (500, 1)\n"
          ]
        }
      ]
    },
    {
      "cell_type": "code",
      "source": [
        "#Division of data in tarining and testing set\n",
        "from sklearn.model_selection import train_test_split\n",
        "xtrain,xtest,ytrain,ytest = train_test_split(X_scaled,Y_scaled,test_size=0.25,random_state=101)"
      ],
      "metadata": {
        "id": "_cbuacz-CxyR"
      },
      "execution_count": 11,
      "outputs": []
    },
    {
      "cell_type": "code",
      "source": [
        "print(xtrain.shape,ytrain.shape,xtest.shape,ytest.shape)"
      ],
      "metadata": {
        "colab": {
          "base_uri": "https://localhost:8080/"
        },
        "id": "KfKDclCyC6XW",
        "outputId": "e3ad16e4-f5af-477f-82ab-37a68fc850bb"
      },
      "execution_count": 12,
      "outputs": [
        {
          "output_type": "stream",
          "name": "stdout",
          "text": [
            "(375, 9) (375, 1) (125, 9) (125, 1)\n"
          ]
        }
      ]
    },
    {
      "cell_type": "code",
      "source": [
        "#accuracy\n",
        "from sklearn.ensemble import RandomForestRegressor\n",
        "model = RandomForestRegressor()\n",
        "model.fit(xtrain, ytrain)\n",
        "print(model.score(xtest, ytest)*100)"
      ],
      "metadata": {
        "colab": {
          "base_uri": "https://localhost:8080/"
        },
        "id": "Qy5K5lH3C924",
        "outputId": "ac9bc618-b924-4198-befa-4d8b706dcbdd"
      },
      "execution_count": 13,
      "outputs": [
        {
          "output_type": "stream",
          "name": "stdout",
          "text": [
            "46.587155247839426\n"
          ]
        }
      ]
    },
    {
      "cell_type": "code",
      "source": [
        "#ANN Model\n",
        "import tensorflow.keras\n",
        "from tensorflow.keras.models import Sequential\n",
        "from tensorflow.keras.layers import Dense\n",
        "model = Sequential()\n",
        "model.add(Dense(25, input_dim=9, activation='relu'))\n",
        "model.add(Dense(25, activation='relu'))\n",
        "model.add(Dense(1, activation='linear'))\n",
        "model.summary()"
      ],
      "metadata": {
        "colab": {
          "base_uri": "https://localhost:8080/"
        },
        "id": "0DWejiu-DF5Y",
        "outputId": "c7dfab68-5532-4bcb-fd08-515e86abecd1"
      },
      "execution_count": 14,
      "outputs": [
        {
          "output_type": "stream",
          "name": "stdout",
          "text": [
            "Model: \"sequential\"\n",
            "_________________________________________________________________\n",
            " Layer (type)                Output Shape              Param #   \n",
            "=================================================================\n",
            " dense (Dense)               (None, 25)                250       \n",
            "                                                                 \n",
            " dense_1 (Dense)             (None, 25)                650       \n",
            "                                                                 \n",
            " dense_2 (Dense)             (None, 1)                 26        \n",
            "                                                                 \n",
            "=================================================================\n",
            "Total params: 926 (3.62 KB)\n",
            "Trainable params: 926 (3.62 KB)\n",
            "Non-trainable params: 0 (0.00 Byte)\n",
            "_________________________________________________________________\n"
          ]
        }
      ]
    },
    {
      "cell_type": "code",
      "source": [
        "#defining the loss function\n",
        "#Adam optimization is a stochastic gradient descent method that is based on adaptive estimation of first-order and second-order moments.\n",
        "#epoch-number times that the learning algorithm will work through the entire training dataset.\n",
        "model.compile(optimizer='adam',loss='mean_squared_error')\n",
        "epochs_hist = model.fit(xtrain,ytrain,epochs=10,batch_size=50,verbose=1,validation_split=0.2)"
      ],
      "metadata": {
        "colab": {
          "base_uri": "https://localhost:8080/"
        },
        "id": "YylggXomDZFF",
        "outputId": "16ed7ca0-8ebe-4244-9905-59a3e8c0a8c2"
      },
      "execution_count": 15,
      "outputs": [
        {
          "output_type": "stream",
          "name": "stdout",
          "text": [
            "Epoch 1/10\n",
            "6/6 [==============================] - 1s 43ms/step - loss: 0.3877 - val_loss: 0.3315\n",
            "Epoch 2/10\n",
            "6/6 [==============================] - 0s 10ms/step - loss: 0.2966 - val_loss: 0.2562\n",
            "Epoch 3/10\n",
            "6/6 [==============================] - 0s 7ms/step - loss: 0.2279 - val_loss: 0.2006\n",
            "Epoch 4/10\n",
            "6/6 [==============================] - 0s 10ms/step - loss: 0.1785 - val_loss: 0.1591\n",
            "Epoch 5/10\n",
            "6/6 [==============================] - 0s 7ms/step - loss: 0.1395 - val_loss: 0.1275\n",
            "Epoch 6/10\n",
            "6/6 [==============================] - 0s 9ms/step - loss: 0.1097 - val_loss: 0.1025\n",
            "Epoch 7/10\n",
            "6/6 [==============================] - 0s 8ms/step - loss: 0.0874 - val_loss: 0.0834\n",
            "Epoch 8/10\n",
            "6/6 [==============================] - 0s 8ms/step - loss: 0.0708 - val_loss: 0.0698\n",
            "Epoch 9/10\n",
            "6/6 [==============================] - 0s 11ms/step - loss: 0.0598 - val_loss: 0.0606\n",
            "Epoch 10/10\n",
            "6/6 [==============================] - 0s 10ms/step - loss: 0.0533 - val_loss: 0.0542\n"
          ]
        }
      ]
    },
    {
      "cell_type": "code",
      "source": [
        "epochs_hist.history.keys()"
      ],
      "metadata": {
        "colab": {
          "base_uri": "https://localhost:8080/"
        },
        "id": "9SJwwobPDlhJ",
        "outputId": "cadc1b24-3fa1-41d4-916b-8a012739e5a0"
      },
      "execution_count": 16,
      "outputs": [
        {
          "output_type": "execute_result",
          "data": {
            "text/plain": [
              "dict_keys(['loss', 'val_loss'])"
            ]
          },
          "metadata": {},
          "execution_count": 16
        }
      ]
    },
    {
      "cell_type": "code",
      "source": [
        "#Visualization\n",
        "plt.figure(figsize=(3,3),dpi=100)\n",
        "plt.plot(epochs_hist.history[\"loss\"])\n",
        "plt.plot(epochs_hist.history[\"val_loss\"])\n",
        "plt.title('Model Loss During Training or Validation')\n",
        "plt.ylabel('Training & Validation Losses')\n",
        "plt.xlabel('Epoch')\n",
        "plt.legend(['Training Loss', 'Validation Loss'])"
      ],
      "metadata": {
        "colab": {
          "base_uri": "https://localhost:8080/",
          "height": 351
        },
        "id": "Awe7rBziDsde",
        "outputId": "a1965cf8-7d96-4051-d29a-940161793276"
      },
      "execution_count": 17,
      "outputs": [
        {
          "output_type": "execute_result",
          "data": {
            "text/plain": [
              "<matplotlib.legend.Legend at 0x7a6fce0ff280>"
            ]
          },
          "metadata": {},
          "execution_count": 17
        },
        {
          "output_type": "display_data",
          "data": {
            "text/plain": [
              "<Figure size 300x300 with 1 Axes>"
            ],
            "image/png": "[encoded data removed]"
          },
          "metadata": {}
        }
      ]
    },
    {
      "cell_type": "code",
      "source": [
        "#Predictions with some random data provided\n",
        "X_random_sample = np.array([[0,42,167411.18,0,400184.25,567595.43,567595.43,11609.38091,238961.2505]])\n",
        "y_predict = model.predict(X_random_sample)"
      ],
      "metadata": {
        "colab": {
          "base_uri": "https://localhost:8080/"
        },
        "id": "yagWJmguEB7s",
        "outputId": "e80cacd3-a61f-4477-9fcb-d1329b216eab"
      },
      "execution_count": 18,
      "outputs": [
        {
          "output_type": "stream",
          "name": "stdout",
          "text": [
            "1/1 [==============================] - 0s 113ms/step\n"
          ]
        }
      ]
    },
    {
      "cell_type": "code",
      "source": [
        "#Algorithms\n",
        "from sklearn.linear_model import LinearRegression\n",
        "from sklearn.linear_model import Ridge\n",
        "#Metrics\n",
        "from sklearn.metrics import r2_score\n",
        "from sklearn.metrics import mean_squared_error\n",
        "from sklearn.metrics import mean_absolute_error"
      ],
      "metadata": {
        "id": "T9hOlbXRELQl"
      },
      "execution_count": 19,
      "outputs": []
    },
    {
      "cell_type": "code",
      "source": [
        "#function\n",
        "def performance(model,X_train,y_train,y_pred,y_test):\n",
        "  print('Train Score:',model.score(xtrain,ytrain))\n",
        "  print('Test Score:',r2_score(ytest,y_pred))\n",
        "  print('')\n",
        "  print('MSE:',mean_squared_error(ytest,y_pred))\n",
        "  print('MAE:',mean_absolute_error(ytest,y_pred))"
      ],
      "metadata": {
        "id": "YQMiW4AxEV1R"
      },
      "execution_count": 20,
      "outputs": []
    },
    {
      "cell_type": "code",
      "source": [
        "#Fitting the model\n",
        "#Linear Regression establishes a relationship between dependent variable (Y)\n",
        "#one or more independent variables (X) using a best fit straight line (also known as regression line).\n",
        "lr = LinearRegression()\n",
        "lr.fit(xtrain,ytrain)\n",
        "#The predicted data\n",
        "lr_pred = lr.predict(xtest)\n",
        "performance(lr,xtrain,ytrain,lr_pred,ytest)"
      ],
      "metadata": {
        "colab": {
          "base_uri": "https://localhost:8080/"
        },
        "id": "-k-r5Bn1EmW8",
        "outputId": "2f50f497-4966-47cc-f960-e72d70ee5e56"
      },
      "execution_count": 21,
      "outputs": [
        {
          "output_type": "stream",
          "name": "stdout",
          "text": [
            "Train Score: 0.666373022883424\n",
            "Test Score: 0.4833359479160346\n",
            "\n",
            "MSE: 0.010542845566519393\n",
            "MAE: 0.08267223296769366\n"
          ]
        }
      ]
    },
    {
      "cell_type": "code",
      "source": [
        "#Comparision & Visualisation\n",
        "plt.figure(figsize=(3,3),dpi=100)\n",
        "plt.scatter(lr_pred,ytest,c='blue',marker='o',s=25)\n",
        "plt.plot([ytest.min(),ytest.max()],[ytest.min(),ytest.max()],c='black',lw=1)\n",
        "plt.xlabel('Predicted Data')\n",
        "plt.ylabel('Actual Data')\n",
        "plt.title('Predict Data VS Actual Data')\n",
        "plt.show()"
      ],
      "metadata": {
        "colab": {
          "base_uri": "https://localhost:8080/",
          "height": 333
        },
        "id": "kNbtMX-AE4OJ",
        "outputId": "d34cd760-afca-41ae-cf9c-8b2e97ccfaa1"
      },
      "execution_count": 23,
      "outputs": [
        {
          "output_type": "display_data",
          "data": {
            "text/plain": [
              "<Figure size 300x300 with 1 Axes>"
            ],
            "image/png": "[encoded data removed]"
          },
          "metadata": {}
        }
      ]
    },
    {
      "cell_type": "code",
      "source": [
        "#Fitting the model\n",
        "#Ridge Regression is a technique used when the data suffers from multicollinearity\n",
        "#independent variables are highly correlated.\n",
        "#amount of shrinkage (or constraint) that will be implemented in the equation.\n",
        "# the larger is the alpha, the higher is the smoothness constraint.\n",
        "ridge = Ridge(alpha = 1)\n",
        "ridge.fit(xtrain,ytrain)\n",
        "#The predicted data\n",
        "ridge_pred = ridge.predict(xtest)\n",
        "performance(ridge,xtrain,ytrain,ridge_pred,ytest)"
      ],
      "metadata": {
        "colab": {
          "base_uri": "https://localhost:8080/"
        },
        "id": "7W7whWi-FKlO",
        "outputId": "0a083f5e-a880-4a1f-8e35-e0197eb6171d"
      },
      "execution_count": 24,
      "outputs": [
        {
          "output_type": "stream",
          "name": "stdout",
          "text": [
            "Train Score: 0.6614677775077044\n",
            "Test Score: 0.49423458296133316\n",
            "\n",
            "MSE: 0.010320452261421083\n",
            "MAE: 0.08219794340251466\n"
          ]
        }
      ]
    },
    {
      "cell_type": "code",
      "source": [
        "#Comparision & Visualisation\n",
        "plt.figure(figsize=(3,3),dpi=100)\n",
        "plt.scatter(ridge_pred,ytest,c='blue',marker='o',s=25)\n",
        "plt.plot([ytest.min(),ytest.max()],[ytest.min(),ytest.max()],c='black',lw=1)\n",
        "plt.xlabel('Predicted Data')\n",
        "plt.ylabel('Actual Data')\n",
        "plt.title('Predict Data VS Actual Data')\n",
        "plt.show()"
      ],
      "metadata": {
        "colab": {
          "base_uri": "https://localhost:8080/",
          "height": 333
        },
        "id": "hfLsB5HRFWSV",
        "outputId": "b445b18b-4e4b-42da-f239-0d896fb055d7"
      },
      "execution_count": 26,
      "outputs": [
        {
          "output_type": "display_data",
          "data": {
            "text/plain": [
              "<Figure size 300x300 with 1 Axes>"
            ],
            "image/png": "[encoded data removed]"
          },
          "metadata": {}
        }
      ]
    }
  ]
}