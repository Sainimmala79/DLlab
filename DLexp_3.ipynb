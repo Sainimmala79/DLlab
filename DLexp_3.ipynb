{
  "nbformat": 4,
  "nbformat_minor": 0,
  "metadata": {
    "colab": {
      "provenance": [],
      "authorship_tag": "ABX9TyNULCWHeSuXB7zCjq8wf6nc",
      "include_colab_link": true
    },
    "kernelspec": {
      "name": "python3",
      "display_name": "Python 3"
    },
    "language_info": {
      "name": "python"
    }
  },
  "cells": [
    {
      "cell_type": "markdown",
      "metadata": {
        "id": "view-in-github",
        "colab_type": "text"
      },
      "source": [
        "<a href=\"https://colab.research.google.com/github/Sainimmala79/DLlab/blob/main/DLexp_3.ipynb\" target=\"_parent\"><img src=\"https://colab.research.google.com/assets/colab-badge.svg\" alt=\"Open In Colab\"/></a>"
      ]
    },
    {
      "cell_type": "code",
      "execution_count": 9,
      "metadata": {
        "id": "v2ZheNf2sGsR"
      },
      "outputs": [],
      "source": [
        "import numpy as np"
      ]
    },
    {
      "cell_type": "code",
      "source": [
        "class NeuralNetwork():\n",
        "   def __init__(self):\n",
        "\n",
        "      # seeding for random number generation\n",
        "      np.random.seed(1)\n",
        "      #converting weights to a 3 by 1 matrix with values from -1 to 1 and mean of 0\n",
        "      self.synaptic_weights = 2 * np.random.random((3, 1)) - 1\n",
        "   def sigmoid(self, x):\n",
        "      #applying the sigmoid function\n",
        "      return 1 / (1 + np.exp(-x))\n",
        "   def sigmoid_derivative(self, x):\n",
        "      #computing derivative to the Sigmoid function\n",
        "      return x * (1 - x)\n",
        "   def train(self, training_inputs, training_outputs, training_iterations):\n",
        "      #training the model to make accurate predictions while adjusting weights continually\n",
        "      for iteration in range(training_iterations):\n",
        "        #siphon the training data via the neuron\n",
        "        output = self.think(training_inputs)\n",
        "        #computing error rate for back-propagation\n",
        "        error = training_outputs - output\n",
        "        #performing weight adjustments\n",
        "        adjustments = np.dot(training_inputs.T, error * self.sigmoid_derivative(output))\n",
        "        self.synaptic_weights += adjustments\n",
        "   def think(self, inputs):\n",
        "     #passing the inputs via the neuron to get output #converting values to floats\n",
        "      inputs = inputs.astype(float)\n",
        "      output = self.sigmoid(np.dot(inputs, self.synaptic_weights))\n",
        "      return output"
      ],
      "metadata": {
        "id": "Nf9kgXE1sRjn"
      },
      "execution_count": 10,
      "outputs": []
    },
    {
      "cell_type": "code",
      "source": [
        "if __name__ == \"__main__\":\n",
        "  #Intialise a single neuron neural network.\n",
        "  neural_network = NeuralNetwork()\n",
        "  print(\"Random starting synaptic weights: \")\n",
        "  print(neural_network.synaptic_weights)\n",
        "  # The training set. We have 4 examples, each consisting of 3 input values\n",
        "  # and 1 output value.\n",
        "  training_set_inputs = np.array([[0, 0, 1], [1, 1, 1], [1, 0, 1], [0, 1, 1]])\n",
        "  training_set_outputs = np.array([[0, 1, 1, 0]]).T\n",
        "  # Train the neural network using a training set.\n",
        "  # Do it 10,000 times and make small adjustments each time.\n",
        "  neural_network.train(training_set_inputs, training_set_outputs, 10000)\n",
        "  print(\"New synaptic weights after training: \")\n",
        "  print(neural_network.synaptic_weights)\n",
        "  # Test the neural network with a new situation.\n",
        "  print(\"Considering new situation [1, 0, 0] -> ?: \")\n",
        "  print(neural_network.think(np.array([1, 0, 0])))"
      ],
      "metadata": {
        "colab": {
          "base_uri": "https://localhost:8080/"
        },
        "id": "WCJGMbcqt1Cd",
        "outputId": "8520c796-670a-499f-9966-3f78fb416106"
      },
      "execution_count": 11,
      "outputs": [
        {
          "output_type": "stream",
          "name": "stdout",
          "text": [
            "Random starting synaptic weights: \n",
            "[[-0.16595599]\n",
            " [ 0.44064899]\n",
            " [-0.99977125]]\n",
            "New synaptic weights after training: \n",
            "[[ 9.67299303]\n",
            " [-0.2078435 ]\n",
            " [-4.62963669]]\n",
            "Considering new situation [1, 0, 0] -> ?: \n",
            "[0.99993704]\n"
          ]
        }
      ]
    }
  ]
}