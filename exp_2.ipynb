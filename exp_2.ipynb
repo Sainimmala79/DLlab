{
  "nbformat": 4,
  "nbformat_minor": 0,
  "metadata": {
    "colab": {
      "provenance": [],
      "authorship_tag": "ABX9TyMRmLtrDDzz4eA4R8xvrsN4",
      "include_colab_link": true
    },
    "kernelspec": {
      "name": "python3",
      "display_name": "Python 3"
    },
    "language_info": {
      "name": "python"
    }
  },
  "cells": [
    {
      "cell_type": "markdown",
      "metadata": {
        "id": "view-in-github",
        "colab_type": "text"
      },
      "source": [
        "<a href=\"https://colab.research.google.com/github/Sainimmala79/DLlab/blob/main/exp_2.ipynb\" target=\"_parent\"><img src=\"https://colab.research.google.com/assets/colab-badge.svg\" alt=\"Open In Colab\"/></a>"
      ]
    },
    {
      "cell_type": "code",
      "execution_count": 22,
      "metadata": {
        "id": "mLKMG36BAUsq"
      },
      "outputs": [],
      "source": [
        "import numpy as np\n",
        "import random\n",
        "import sys\n"
      ]
    },
    {
      "cell_type": "code",
      "source": [
        "and_gate = [[(1, 1), 1], [(1, -1), -1], [(-1, 1), -1], [(-1, -1), -1]]\n",
        "# [(inputs), expected output]"
      ],
      "metadata": {
        "id": "rwQK6pa1BVy2"
      },
      "execution_count": 23,
      "outputs": []
    },
    {
      "cell_type": "code",
      "source": [
        "or_gate = [ [(1, 1), 1], [(1, -1), 1], [(-1, 1), 1], [(-1, -1), -1] ]"
      ],
      "metadata": {
        "id": "Tw7v41sBBsPL"
      },
      "execution_count": 24,
      "outputs": []
    },
    {
      "cell_type": "code",
      "source": [
        "def activation_function(x):\n",
        "  if x > 0:\n",
        "    return 1\n",
        "  elif x < 0:\n",
        "    return -1"
      ],
      "metadata": {
        "id": "tKZ21XwsB36s"
      },
      "execution_count": 25,
      "outputs": []
    },
    {
      "cell_type": "code",
      "source": [
        "def run_perceptron(gate):\n",
        "   bias = (1,)\n",
        "   learning_constant=0.1\n",
        "   n=1\n",
        "   weights=[]\n",
        "   # the bias is always one learning_constant = 0.1 n = 50 # how many times the machine learns weights = []\n",
        "   # initialize with 3 random weights between -1 and 1, one for each input and one for the bias\n",
        "   for i in range(3):\n",
        "     weights.append(random.uniform(-1, 1))\n",
        "   for i in range(n):\n",
        "     inputs, expected_output = random.choice(gate)\n",
        "     inputs = inputs + bias\n",
        "        # add the bias here\n",
        "     weighted_sum = np.dot(inputs, weights)\n",
        "     guess = activation_function(weighted_sum)\n",
        "        # find the sign of the weighted sum\n",
        "     error = expected_output - guess\n",
        "     weights =weights + learning_constant * error * np.asarray(inputs)\n",
        "        # change the weights to include the error times input, won't change if there's no error inputs,\n",
        "\n",
        "     print(\"inputs: \" + str(inputs))\n",
        "     print(\"weighted sum: \" + str(weighted_sum))\n",
        "     print(\"correct answer: \" + str(expected_output))\n",
        "     print(\"perceptron guess: \" + str(activation_function(weighted_sum)) + '\\n')\n",
        "tests=2\n",
        "for i in range(tests):\n",
        "    print(\"// AND //\")\n",
        "    run_perceptron(and_gate)\n",
        "    print(\"// OR //\")\n",
        "    run_perceptron(or_gate)\n"
      ],
      "metadata": {
        "id": "H4h_nv_MDEu4",
        "colab": {
          "base_uri": "https://localhost:8080/"
        },
        "outputId": "921084d5-52bf-479d-e54f-5e21980cc487"
      },
      "execution_count": 33,
      "outputs": [
        {
          "output_type": "stream",
          "name": "stdout",
          "text": [
            "// AND //\n",
            "inputs: (-1, -1, 1)\n",
            "weighted sum: 2.50432039943213\n",
            "correct answer: -1\n",
            "perceptron guess: 1\n",
            "\n",
            "// OR //\n",
            "inputs: (-1, -1, 1)\n",
            "weighted sum: -2.5540862642445807\n",
            "correct answer: -1\n",
            "perceptron guess: -1\n",
            "\n",
            "// AND //\n",
            "inputs: (-1, 1, 1)\n",
            "weighted sum: 1.6844535568982577\n",
            "correct answer: -1\n",
            "perceptron guess: 1\n",
            "\n",
            "// OR //\n",
            "inputs: (1, 1, 1)\n",
            "weighted sum: -0.09906752224972148\n",
            "correct answer: 1\n",
            "perceptron guess: -1\n",
            "\n"
          ]
        }
      ]
    }
  ]
}